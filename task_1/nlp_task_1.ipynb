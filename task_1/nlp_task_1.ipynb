{
 "cells": [
  {
   "cell_type": "markdown",
   "metadata": {},
   "source": [
    "# 1.数据集"
   ]
  },
  {
   "cell_type": "markdown",
   "metadata": {},
   "source": [
    "    安装TensorFlow 1.3.1 \n",
    "    英文数据集通过imdb = keras.datasets.imdb下载。"
   ]
  },
  {
   "cell_type": "markdown",
   "metadata": {},
   "source": [
    "# 2.IMDB数据集下载和探索"
   ]
  },
  {
   "cell_type": "code",
   "execution_count": 27,
   "metadata": {},
   "outputs": [
    {
     "name": "stdout",
     "output_type": "stream",
     "text": [
      "2.0.0-alpha0\n"
     ]
    }
   ],
   "source": [
    "import tensorflow as tf\n",
    "from tensorflow import keras\n",
    "\n",
    "import numpy as np\n",
    "\n",
    "print(tf.__version__)"
   ]
  },
  {
   "cell_type": "code",
   "execution_count": 28,
   "metadata": {},
   "outputs": [],
   "source": [
    "imdb = keras.datasets.imdb\n",
    "\n",
    "(train_data, train_labels), (test_data, test_labels) = imdb.load_data('C:/Users/user/.keras/datasets/imdb.npz',num_words=15000)"
   ]
  },
  {
   "cell_type": "markdown",
   "metadata": {},
   "source": [
    "#### 查看数据维度："
   ]
  },
  {
   "cell_type": "code",
   "execution_count": 29,
   "metadata": {},
   "outputs": [
    {
     "name": "stdout",
     "output_type": "stream",
     "text": [
      "Training entries: 25000, labels: 25000\n"
     ]
    }
   ],
   "source": [
    "\n",
    "print(\"Training entries: {}, labels: {}\".format(len(train_data), len(train_labels)))"
   ]
  },
  {
   "cell_type": "markdown",
   "metadata": {},
   "source": [
    "#### 查看此段文本中单词对应索引："
   ]
  },
  {
   "cell_type": "code",
   "execution_count": 30,
   "metadata": {},
   "outputs": [
    {
     "name": "stdout",
     "output_type": "stream",
     "text": [
      "[1, 14, 22, 16, 43, 530, 973, 1622, 1385, 65, 458, 4468, 66, 3941, 4, 173, 36, 256, 5, 25, 100, 43, 838, 112, 50, 670, 2, 9, 35, 480, 284, 5, 150, 4, 172, 112, 167, 2, 336, 385, 39, 4, 172, 4536, 1111, 17, 546, 38, 13, 447, 4, 192, 50, 16, 6, 147, 2025, 19, 14, 22, 4, 1920, 4613, 469, 4, 22, 71, 87, 12, 16, 43, 530, 38, 76, 15, 13, 1247, 4, 22, 17, 515, 17, 12, 16, 626, 18, 2, 5, 62, 386, 12, 8, 316, 8, 106, 5, 4, 2223, 5244, 16, 480, 66, 3785, 33, 4, 130, 12, 16, 38, 619, 5, 25, 124, 51, 36, 135, 48, 25, 1415, 33, 6, 22, 12, 215, 28, 77, 52, 5, 14, 407, 16, 82, 10311, 8, 4, 107, 117, 5952, 15, 256, 4, 2, 7, 3766, 5, 723, 36, 71, 43, 530, 476, 26, 400, 317, 46, 7, 4, 12118, 1029, 13, 104, 88, 4, 381, 15, 297, 98, 32, 2071, 56, 26, 141, 6, 194, 7486, 18, 4, 226, 22, 21, 134, 476, 26, 480, 5, 144, 30, 5535, 18, 51, 36, 28, 224, 92, 25, 104, 4, 226, 65, 16, 38, 1334, 88, 12, 16, 283, 5, 16, 4472, 113, 103, 32, 15, 16, 5345, 19, 178, 32]\n"
     ]
    }
   ],
   "source": [
    "print(train_data[0])"
   ]
  },
  {
   "cell_type": "markdown",
   "metadata": {},
   "source": [
    "#### 将索引转换成对应单词："
   ]
  },
  {
   "cell_type": "code",
   "execution_count": 31,
   "metadata": {},
   "outputs": [],
   "source": [
    "# A dictionary mapping words to an integer index\n",
    "word_index = imdb.get_word_index()\n",
    "\n",
    "# The first indices are reserved\n",
    "word_index = {k:(v+3) for k,v in word_index.items()} \n",
    "word_index[\"<PAD>\"] = 0\n",
    "word_index[\"<START>\"] = 1\n",
    "word_index[\"<UNK>\"] = 2  # unknown\n",
    "word_index[\"<UNUSED>\"] = 3\n",
    "\n",
    "reverse_word_index = dict([(value, key) for (key, value) in word_index.items()])\n",
    "\n",
    "def decode_review(text):\n",
    "    return ' '.join([reverse_word_index.get(i, '?') for i in text])"
   ]
  },
  {
   "cell_type": "code",
   "execution_count": 32,
   "metadata": {},
   "outputs": [
    {
     "data": {
      "text/plain": [
       "\"<START> shown in australia as <UNK> this incredibly bad movie is so bad that you become <UNK> and have to watch it to the end just to see if it could get any worse and it does the storyline is so predictable it seems written by a high school <UNK> class the sets are pathetic but marginally better than the <UNK> and the acting is wooden br br the infant <UNK> seems to have been stolen from the props <UNK> of <UNK> <UNK> there didn't seem to be a single original idea in the whole movie br br i found this movie to be so bad that i laughed most of the way through br br malcolm mcdowell should hang his head in shame he obviously needed the money\""
      ]
     },
     "execution_count": 32,
     "metadata": {},
     "output_type": "execute_result"
    }
   ],
   "source": [
    "decode_review(train_data[20])"
   ]
  },
  {
   "cell_type": "markdown",
   "metadata": {},
   "source": [
    "#### 准备数据："
   ]
  },
  {
   "cell_type": "code",
   "execution_count": 33,
   "metadata": {},
   "outputs": [],
   "source": [
    "train_data = keras.preprocessing.sequence.pad_sequences(train_data,\n",
    "                                                        value=word_index[\"<PAD>\"],\n",
    "                                                        padding='post',\n",
    "                                                        maxlen=256)\n",
    "\n",
    "test_data = keras.preprocessing.sequence.pad_sequences(test_data,\n",
    "                                                       value=word_index[\"<PAD>\"],\n",
    "                                                       padding='post',\n",
    "                                                       maxlen=256)"
   ]
  },
  {
   "cell_type": "code",
   "execution_count": 34,
   "metadata": {},
   "outputs": [
    {
     "data": {
      "text/plain": [
       "(256, 256)"
      ]
     },
     "execution_count": 34,
     "metadata": {},
     "output_type": "execute_result"
    }
   ],
   "source": [
    "len(train_data[0]), len(train_data[1])"
   ]
  },
  {
   "cell_type": "code",
   "execution_count": 35,
   "metadata": {},
   "outputs": [
    {
     "name": "stdout",
     "output_type": "stream",
     "text": [
      "[    1    14    22    16    43   530   973  1622  1385    65   458  4468\n",
      "    66  3941     4   173    36   256     5    25   100    43   838   112\n",
      "    50   670     2     9    35   480   284     5   150     4   172   112\n",
      "   167     2   336   385    39     4   172  4536  1111    17   546    38\n",
      "    13   447     4   192    50    16     6   147  2025    19    14    22\n",
      "     4  1920  4613   469     4    22    71    87    12    16    43   530\n",
      "    38    76    15    13  1247     4    22    17   515    17    12    16\n",
      "   626    18     2     5    62   386    12     8   316     8   106     5\n",
      "     4  2223  5244    16   480    66  3785    33     4   130    12    16\n",
      "    38   619     5    25   124    51    36   135    48    25  1415    33\n",
      "     6    22    12   215    28    77    52     5    14   407    16    82\n",
      " 10311     8     4   107   117  5952    15   256     4     2     7  3766\n",
      "     5   723    36    71    43   530   476    26   400   317    46     7\n",
      "     4 12118  1029    13   104    88     4   381    15   297    98    32\n",
      "  2071    56    26   141     6   194  7486    18     4   226    22    21\n",
      "   134   476    26   480     5   144    30  5535    18    51    36    28\n",
      "   224    92    25   104     4   226    65    16    38  1334    88    12\n",
      "    16   283     5    16  4472   113   103    32    15    16  5345    19\n",
      "   178    32     0     0     0     0     0     0     0     0     0     0\n",
      "     0     0     0     0     0     0     0     0     0     0     0     0\n",
      "     0     0     0     0     0     0     0     0     0     0     0     0\n",
      "     0     0     0     0]\n"
     ]
    }
   ],
   "source": [
    "print(train_data[0])"
   ]
  },
  {
   "cell_type": "markdown",
   "metadata": {},
   "source": [
    "#### 建立模型："
   ]
  },
  {
   "cell_type": "code",
   "execution_count": 36,
   "metadata": {},
   "outputs": [
    {
     "name": "stdout",
     "output_type": "stream",
     "text": [
      "Model: \"sequential_1\"\n",
      "_________________________________________________________________\n",
      "Layer (type)                 Output Shape              Param #   \n",
      "=================================================================\n",
      "embedding_1 (Embedding)      (None, None, 16)          240000    \n",
      "_________________________________________________________________\n",
      "global_average_pooling1d_1 ( (None, 16)                0         \n",
      "_________________________________________________________________\n",
      "dense_2 (Dense)              (None, 16)                272       \n",
      "_________________________________________________________________\n",
      "dropout_1 (Dropout)          (None, 16)                0         \n",
      "_________________________________________________________________\n",
      "dense_3 (Dense)              (None, 1)                 17        \n",
      "=================================================================\n",
      "Total params: 240,289\n",
      "Trainable params: 240,289\n",
      "Non-trainable params: 0\n",
      "_________________________________________________________________\n"
     ]
    }
   ],
   "source": [
    "# input shape is the vocabulary count used for the movie reviews (10,000 words)\n",
    "vocab_size = 15000\n",
    "\n",
    "model = keras.Sequential()\n",
    "model.add(keras.layers.Embedding(vocab_size, 16))\n",
    "model.add(keras.layers.GlobalAveragePooling1D())\n",
    "#model.add(keras.layers.GlobalMaxPooling1D())\n",
    "model.add(keras.layers.Dense(16, activation=tf.nn.relu))\n",
    "model.add(keras.layers.Dropout(0.5))\n",
    "model.add(keras.layers.Dense(1, activation=tf.nn.sigmoid))\n",
    "\n",
    "model.summary()"
   ]
  },
  {
   "cell_type": "code",
   "execution_count": 37,
   "metadata": {},
   "outputs": [],
   "source": [
    "model.compile(optimizer=tf.optimizers.Adam(),#tf.train.AdamOptimizer() =>tf.optimizers.Adam()\n",
    "              loss='binary_crossentropy',\n",
    "              metrics=['accuracy'])"
   ]
  },
  {
   "cell_type": "code",
   "execution_count": 38,
   "metadata": {},
   "outputs": [],
   "source": [
    "x_val = train_data[:10000]\n",
    "partial_x_train = train_data[10000:]\n",
    "\n",
    "y_val = train_labels[:10000]\n",
    "partial_y_train = train_labels[10000:]"
   ]
  },
  {
   "cell_type": "markdown",
   "metadata": {},
   "source": [
    "#### 训练模型"
   ]
  },
  {
   "cell_type": "code",
   "execution_count": 39,
   "metadata": {},
   "outputs": [
    {
     "name": "stdout",
     "output_type": "stream",
     "text": [
      "Train on 15000 samples, validate on 10000 samples\n",
      "Epoch 1/40\n",
      "15000/15000 [==============================] - 3s 182us/sample - loss: 0.6927 - accuracy: 0.5360 - val_loss: 0.6920 - val_accuracy: 0.5965\n",
      "Epoch 2/40\n",
      "15000/15000 [==============================] - 1s 71us/sample - loss: 0.6907 - accuracy: 0.5947 - val_loss: 0.6891 - val_accuracy: 0.7244\n",
      "Epoch 3/40\n",
      "15000/15000 [==============================] - 1s 70us/sample - loss: 0.6856 - accuracy: 0.6719 - val_loss: 0.6815 - val_accuracy: 0.7548\n",
      "Epoch 4/40\n",
      "15000/15000 [==============================] - 1s 69us/sample - loss: 0.6737 - accuracy: 0.6969 - val_loss: 0.6669 - val_accuracy: 0.7152\n",
      "Epoch 5/40\n",
      "15000/15000 [==============================] - 1s 67us/sample - loss: 0.6550 - accuracy: 0.7220 - val_loss: 0.6436 - val_accuracy: 0.7580\n",
      "Epoch 6/40\n",
      "15000/15000 [==============================] - 1s 66us/sample - loss: 0.6257 - accuracy: 0.7501 - val_loss: 0.6118 - val_accuracy: 0.7965\n",
      "Epoch 7/40\n",
      "15000/15000 [==============================] - 1s 71us/sample - loss: 0.5900 - accuracy: 0.7684 - val_loss: 0.5728 - val_accuracy: 0.8076\n",
      "Epoch 8/40\n",
      "15000/15000 [==============================] - 1s 71us/sample - loss: 0.5506 - accuracy: 0.7879 - val_loss: 0.5331 - val_accuracy: 0.8255\n",
      "Epoch 9/40\n",
      "15000/15000 [==============================] - 1s 74us/sample - loss: 0.5092 - accuracy: 0.8119 - val_loss: 0.4940 - val_accuracy: 0.8378\n",
      "Epoch 10/40\n",
      "15000/15000 [==============================] - 1s 69us/sample - loss: 0.4741 - accuracy: 0.8291 - val_loss: 0.4590 - val_accuracy: 0.8463\n",
      "Epoch 11/40\n",
      "15000/15000 [==============================] - 1s 69us/sample - loss: 0.4435 - accuracy: 0.8404 - val_loss: 0.4295 - val_accuracy: 0.8577\n",
      "Epoch 12/40\n",
      "15000/15000 [==============================] - 1s 68us/sample - loss: 0.4135 - accuracy: 0.8543 - val_loss: 0.4041 - val_accuracy: 0.8605\n",
      "Epoch 13/40\n",
      "15000/15000 [==============================] - 1s 71us/sample - loss: 0.3875 - accuracy: 0.8649 - val_loss: 0.3818 - val_accuracy: 0.8668\n",
      "Epoch 14/40\n",
      "15000/15000 [==============================] - 1s 74us/sample - loss: 0.3622 - accuracy: 0.8719 - val_loss: 0.3651 - val_accuracy: 0.8707\n",
      "Epoch 15/40\n",
      "15000/15000 [==============================] - 1s 72us/sample - loss: 0.3437 - accuracy: 0.8790 - val_loss: 0.3507 - val_accuracy: 0.8719\n",
      "Epoch 16/40\n",
      "15000/15000 [==============================] - 1s 72us/sample - loss: 0.3293 - accuracy: 0.8871 - val_loss: 0.3379 - val_accuracy: 0.8766\n",
      "Epoch 17/40\n",
      "15000/15000 [==============================] - 1s 71us/sample - loss: 0.3111 - accuracy: 0.8963 - val_loss: 0.3280 - val_accuracy: 0.8785\n",
      "Epoch 18/40\n",
      "15000/15000 [==============================] - 1s 73us/sample - loss: 0.2970 - accuracy: 0.8987 - val_loss: 0.3186 - val_accuracy: 0.8798\n",
      "Epoch 19/40\n",
      "15000/15000 [==============================] - 1s 72us/sample - loss: 0.2822 - accuracy: 0.9052 - val_loss: 0.3110 - val_accuracy: 0.8825\n",
      "Epoch 20/40\n",
      "15000/15000 [==============================] - 1s 69us/sample - loss: 0.2719 - accuracy: 0.9077 - val_loss: 0.3048 - val_accuracy: 0.8815\n",
      "Epoch 21/40\n",
      "15000/15000 [==============================] - 1s 70us/sample - loss: 0.2606 - accuracy: 0.9135 - val_loss: 0.2993 - val_accuracy: 0.8834\n",
      "Epoch 22/40\n",
      "15000/15000 [==============================] - 1s 71us/sample - loss: 0.2499 - accuracy: 0.9207 - val_loss: 0.2953 - val_accuracy: 0.8854\n",
      "Epoch 23/40\n",
      "15000/15000 [==============================] - 1s 73us/sample - loss: 0.2408 - accuracy: 0.9219 - val_loss: 0.2933 - val_accuracy: 0.8833\n",
      "Epoch 24/40\n",
      "15000/15000 [==============================] - 1s 67us/sample - loss: 0.2306 - accuracy: 0.9274 - val_loss: 0.2874 - val_accuracy: 0.8866\n",
      "Epoch 25/40\n",
      "15000/15000 [==============================] - 1s 66us/sample - loss: 0.2218 - accuracy: 0.9316 - val_loss: 0.2856 - val_accuracy: 0.8865\n",
      "Epoch 26/40\n",
      "15000/15000 [==============================] - 1s 64us/sample - loss: 0.2157 - accuracy: 0.9341 - val_loss: 0.2846 - val_accuracy: 0.8858\n",
      "Epoch 27/40\n",
      "15000/15000 [==============================] - 1s 69us/sample - loss: 0.2074 - accuracy: 0.9345 - val_loss: 0.2819 - val_accuracy: 0.8876\n",
      "Epoch 28/40\n",
      "15000/15000 [==============================] - 1s 70us/sample - loss: 0.1977 - accuracy: 0.9401 - val_loss: 0.2809 - val_accuracy: 0.8874\n",
      "Epoch 29/40\n",
      "15000/15000 [==============================] - 2s 109us/sample - loss: 0.1891 - accuracy: 0.9441 - val_loss: 0.2820 - val_accuracy: 0.8861\n",
      "Epoch 30/40\n",
      "15000/15000 [==============================] - 1s 86us/sample - loss: 0.1883 - accuracy: 0.9420 - val_loss: 0.2795 - val_accuracy: 0.8886\n",
      "Epoch 31/40\n",
      "15000/15000 [==============================] - 1s 76us/sample - loss: 0.1790 - accuracy: 0.9488 - val_loss: 0.2794 - val_accuracy: 0.8882\n",
      "Epoch 32/40\n",
      "15000/15000 [==============================] - 1s 71us/sample - loss: 0.1728 - accuracy: 0.9515 - val_loss: 0.2802 - val_accuracy: 0.8899\n",
      "Epoch 33/40\n",
      "15000/15000 [==============================] - 1s 70us/sample - loss: 0.1681 - accuracy: 0.9532 - val_loss: 0.2819 - val_accuracy: 0.8886\n",
      "Epoch 34/40\n",
      "15000/15000 [==============================] - 1s 69us/sample - loss: 0.1612 - accuracy: 0.9555 - val_loss: 0.2811 - val_accuracy: 0.8901\n",
      "Epoch 35/40\n",
      "15000/15000 [==============================] - 1s 68us/sample - loss: 0.1527 - accuracy: 0.9567 - val_loss: 0.2841 - val_accuracy: 0.8891\n",
      "Epoch 36/40\n",
      "15000/15000 [==============================] - 1s 69us/sample - loss: 0.1486 - accuracy: 0.9595 - val_loss: 0.2841 - val_accuracy: 0.8892\n",
      "Epoch 37/40\n",
      "15000/15000 [==============================] - 1s 69us/sample - loss: 0.1472 - accuracy: 0.9585 - val_loss: 0.2867 - val_accuracy: 0.8901\n",
      "Epoch 38/40\n",
      "15000/15000 [==============================] - 1s 68us/sample - loss: 0.1416 - accuracy: 0.9624 - val_loss: 0.2898 - val_accuracy: 0.8880\n",
      "Epoch 39/40\n",
      "15000/15000 [==============================] - 1s 68us/sample - loss: 0.1358 - accuracy: 0.9647 - val_loss: 0.2889 - val_accuracy: 0.8881\n",
      "Epoch 40/40\n",
      "15000/15000 [==============================] - 1s 67us/sample - loss: 0.1325 - accuracy: 0.9659 - val_loss: 0.2913 - val_accuracy: 0.8887\n"
     ]
    }
   ],
   "source": [
    "history = model.fit(partial_x_train,\n",
    "                    partial_y_train,\n",
    "                    epochs=40,\n",
    "                    batch_size=512,\n",
    "                    validation_data=(x_val, y_val),\n",
    "                    verbose=1)"
   ]
  },
  {
   "cell_type": "markdown",
   "metadata": {},
   "source": [
    "#### 评估模型:"
   ]
  },
  {
   "cell_type": "code",
   "execution_count": 40,
   "metadata": {},
   "outputs": [
    {
     "name": "stdout",
     "output_type": "stream",
     "text": [
      "25000/25000 [==============================] - 0s 18us/sample - loss: 0.3136 - accuracy: 0.8767\n",
      "[0.3136391270828247, 0.87668]\n"
     ]
    }
   ],
   "source": [
    "results = model.evaluate(test_data, test_labels)\n",
    "\n",
    "print(results)"
   ]
  },
  {
   "cell_type": "code",
   "execution_count": 44,
   "metadata": {},
   "outputs": [
    {
     "data": {
      "text/plain": [
       "dict_keys(['loss', 'accuracy', 'val_loss', 'val_accuracy'])"
      ]
     },
     "execution_count": 44,
     "metadata": {},
     "output_type": "execute_result"
    }
   ],
   "source": [
    "history_dict = history.history\n",
    "history_dict.keys()\n"
   ]
  },
  {
   "cell_type": "code",
   "execution_count": 47,
   "metadata": {},
   "outputs": [
    {
     "data": {
      "image/png": "[encoded data removed]",
      "text/plain": [
       "<Figure size 432x288 with 1 Axes>"
      ]
     },
     "metadata": {},
     "output_type": "display_data"
    }
   ],
   "source": [
    "import matplotlib.pyplot as plt\n",
    "\n",
    "acc = history.history['accuracy']\n",
    "val_acc = history.history['val_accuracy']\n",
    "loss = history.history['loss']\n",
    "val_loss = history.history['val_loss']\n",
    "\n",
    "epochs = range(1, len(acc) + 1)\n",
    "\n",
    "# \"bo\" is for \"blue dot\"\n",
    "plt.plot(epochs, loss, 'bo', label='Training loss')\n",
    "# b is for \"solid blue line\"\n",
    "plt.plot(epochs, val_loss, 'b', label='Validation loss')\n",
    "plt.title('Training and validation loss')\n",
    "plt.xlabel('Epochs')\n",
    "plt.ylabel('Loss')\n",
    "plt.legend()\n",
    "\n",
    "plt.show()"
   ]
  },
  {
   "cell_type": "code",
   "execution_count": 48,
   "metadata": {},
   "outputs": [
    {
     "data": {
      "image/png": "[encoded data removed]",
      "text/plain": [
       "<Figure size 432x288 with 1 Axes>"
      ]
     },
     "metadata": {},
     "output_type": "display_data"
    }
   ],
   "source": [
    "plt.clf()   # clear figure\n",
    "acc_values = history_dict['accuracy']\n",
    "val_acc_values = history_dict['val_accuracy']\n",
    "\n",
    "plt.plot(epochs, acc, 'bo', label='Training acc')\n",
    "plt.plot(epochs, val_acc, 'b', label='Validation acc')\n",
    "plt.title('Training and validation accuracy')\n",
    "plt.xlabel('Epochs')\n",
    "plt.ylabel('Accuracy')\n",
    "plt.legend()\n",
    "\n",
    "plt.show()"
   ]
  },
  {
   "cell_type": "markdown",
   "metadata": {},
   "source": [
    "# 4.学习召回率、准确率、ROC曲线、AUC、PR曲线基本概念"
   ]
  },
  {
   "attachments": {},
   "cell_type": "markdown",
   "metadata": {},
   "source": [
    "# 混淆矩阵图：\n",
    "![混淆矩阵](./混淆矩阵.jpg)\n",
    "\n",
    "    TP: 预测为正，实际为正\n",
    "    TN: 预测为负，实际为负\n",
    "    FP:预测为正，实际为负\n",
    "    FN: 预测为负，实际为正\n",
    "    T/F：表示预测结果是否正确\n",
    "    P/N：表示预测结果是正或负样本\n",
    "    精确率、准确率：Accuracy=(TP+TN)/(TP+TN+FN+FP)\n",
    "    精准率、查准率： P = TP/ (TP+FP)\n",
    "    召回率、查全率： R = TP/ (TP+FN)\n",
    "    真正例率(同召回率、查全率)：TPR = TP/ (TP+FN)\n",
    "    假正例率：FPR =FP/ (FP+TN)\n",
    "    \n",
    "    ROC曲线和PR（Precision-Recall）曲线皆为类别不平衡问题中常用的评估方法。\n",
    "    ROC曲线：\n",
    "    横轴：表示负正类率（false positive rate FPR）特异程度，划分实例中所有负例站所有负例的比例\n",
    "    纵轴：真正类率（true positive rate TPR）灵敏度\n",
    "![ROC](./ROC.jpg)\n",
    "\n",
    "    AUC曲线：AUC（Area Under Curve）被定义为ROC曲线下与坐标轴围成的面积，显然这个面积的数值不会大于1。又由于ROC曲线一般都处于y=x这条直线的上方，所以AUC的取值范围在0.5和1之间。使用AUC值作为评价标准是因为很多时候ROC曲线并不能清晰的说明哪个分类器的效果更好，而作为一个数值，对应AUC更大的分类器效果更好。\n",
    "![auc.jpg](./auc.jpg)\n",
    "\n",
    "    在PR曲线中，以Recall为x轴，Precision为y轴。Recall与TPR的意思相同，而Precision指正确分类的正样本数占总正样本的比例。\n",
    "![pr.jpg](./pr曲线.jpg)\n",
    "    \n",
    "    "
   ]
  },
  {
   "cell_type": "code",
   "execution_count": null,
   "metadata": {},
   "outputs": [],
   "source": []
  }
 ],
 "metadata": {
  "kernelspec": {
   "display_name": "Python 3",
   "language": "python",
   "name": "python3"
  },
  "language_info": {
   "codemirror_mode": {
    "name": "ipython",
    "version": 3
   },
   "file_extension": ".py",
   "mimetype": "text/x-python",
   "name": "python",
   "nbconvert_exporter": "python",
   "pygments_lexer": "ipython3",
   "version": "3.6.5"
  }
 },
 "nbformat": 4,
 "nbformat_minor": 2
}
